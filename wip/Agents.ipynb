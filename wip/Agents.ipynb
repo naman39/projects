{
 "cells": [
  {
   "cell_type": "code",
   "execution_count": 1,
   "id": "149e38dd-2720-4a08-b544-25e830849be0",
   "metadata": {},
   "outputs": [],
   "source": [
    "#Agents are Langchain components, that are used to utilize LLM along with sequence of actions"
   ]
  },
  {
   "cell_type": "code",
   "execution_count": null,
   "id": "eb41c1fc-ecf2-49f3-ae50-ba3762ef5ed1",
   "metadata": {},
   "outputs": [],
   "source": []
  }
 ],
 "metadata": {
  "kernelspec": {
   "display_name": "Python 3 (ipykernel)",
   "language": "python",
   "name": "python3"
  },
  "language_info": {
   "codemirror_mode": {
    "name": "ipython",
    "version": 3
   },
   "file_extension": ".py",
   "mimetype": "text/x-python",
   "name": "python",
   "nbconvert_exporter": "python",
   "pygments_lexer": "ipython3",
   "version": "3.10.10"
  }
 },
 "nbformat": 4,
 "nbformat_minor": 5
}
